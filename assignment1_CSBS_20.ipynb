{
 "cells": [
  {
   "cell_type": "markdown",
   "metadata": {},
   "source": [
    "Assignment 1: Create a Python application that tokenizes a\n",
    "statement into individual words.\n",
    "Test Case: _\n",
    "Input: \"Hello, how are you?\" _\n",
    "Output: [\"Hello\", \"how\", \"are\", \"you\"]"
   ]
  },
  {
   "cell_type": "code",
   "execution_count": null,
   "metadata": {},
   "outputs": [
    {
     "name": "stdout",
     "output_type": "stream",
     "text": [
      "['Hello', 'how', 'are', 'you']\n"
     ]
    },
    {
     "name": "stderr",
     "output_type": "stream",
     "text": [
      "[nltk_data] Downloading package punkt to\n",
      "[nltk_data]     C:\\Users\\Shounak\\AppData\\Roaming\\nltk_data...\n",
      "[nltk_data]   Package punkt is already up-to-date!\n"
     ]
    }
   ],
   "source": [
    "#-Assignment 1\n",
    "\n",
    "import nltk\n",
    "from nltk.tokenize import word_tokenize, RegexpTokenizer\n",
    "\n",
    "nltk.download('punkt')\n",
    "\n",
    "def tokenize_statement(statement):\n",
    "    tokenizer = RegexpTokenizer(r'\\w+')\n",
    "    return tokenizer.tokenize(statement)\n",
    "\n",
    "input_text = \"Hello, how are you?\"\n",
    "output = tokenize_statement(input_text)\n",
    "print(output)  # Expected Output: ['Hello', 'how', 'are', 'you']\n"
   ]
  },
  {
   "cell_type": "markdown",
   "metadata": {},
   "source": [
    "Assignment 2: Implement a Python application using a stemming\n",
    "algorithm (e.g., nltk's PorterStemmer) to reduce words to their\n",
    "root form, and validate it with the test case programming →\n",
    "program."
   ]
  },
  {
   "cell_type": "code",
   "execution_count": 4,
   "metadata": {},
   "outputs": [
    {
     "name": "stdout",
     "output_type": "stream",
     "text": [
      "program\n"
     ]
    }
   ],
   "source": [
    "#-Assignment 2\n",
    "from nltk.stem import PorterStemmer\n",
    "\n",
    "def stem_word(word):\n",
    "    ps = PorterStemmer()\n",
    "    return ps.stem(word)\n",
    "\n",
    "# Test Case\n",
    "input_word = \"programming\"\n",
    "output = stem_word(input_word)\n",
    "print(output)  # Expected Output: \"program\"\n",
    "\n"
   ]
  },
  {
   "cell_type": "markdown",
   "metadata": {},
   "source": [
    "Assignment 3: Develop a Python program that utilizes a\n",
    "stemming algorithm, such as the one provided by the nltk library,\n",
    "to efficiently reduce a given word to its lexical root. Validate your\n",
    "implementation by testing it with the input \"running\" and\n",
    "confirming the output as \"run\"."
   ]
  },
  {
   "cell_type": "code",
   "execution_count": null,
   "metadata": {},
   "outputs": [
    {
     "name": "stdout",
     "output_type": "stream",
     "text": [
      "run\n"
     ]
    }
   ],
   "source": [
    "#-Assignment 3\n",
    "from nltk.stem import PorterStemmer\n",
    "\n",
    "def stem_word(word):\n",
    "    ps = PorterStemmer()\n",
    "    return ps.stem(word)\n",
    "\n",
    "# Test Case\n",
    "input_word = \"running\"\n",
    "output = stem_word(input_word)\n",
    "print(output)  # Expected Output: \"run\"\n"
   ]
  },
  {
   "cell_type": "markdown",
   "metadata": {},
   "source": [
    "Assignment 4: Develop a Python program leveraging a\n",
    "lemmatization technique (e.g., nltk's WordNetLemmatizer) to\n",
    "transform a given word into its canonical base form, and validate\n",
    "it using the input \"running\" to produce the output \"run\"."
   ]
  },
  {
   "cell_type": "code",
   "execution_count": null,
   "metadata": {},
   "outputs": [
    {
     "name": "stderr",
     "output_type": "stream",
     "text": [
      "[nltk_data] Downloading package wordnet to\n",
      "[nltk_data]     C:\\Users\\Shounak\\AppData\\Roaming\\nltk_data...\n",
      "[nltk_data]   Package wordnet is already up-to-date!\n"
     ]
    },
    {
     "name": "stdout",
     "output_type": "stream",
     "text": [
      "run\n"
     ]
    }
   ],
   "source": [
    "#-Assignment 4\n",
    "import nltk\n",
    "from nltk.stem import WordNetLemmatizer\n",
    "\n",
    "nltk.download('wordnet')\n",
    "\n",
    "def lemmatize_word(word):\n",
    "    lemmatizer = WordNetLemmatizer()\n",
    "    return lemmatizer.lemmatize(word, pos=\"v\")  # 'v' for verb form\n",
    "\n",
    "# Test Case\n",
    "print(lemmatize_word(\"running\"))  # Expected Output: \"run\"\n"
   ]
  }
 ],
 "metadata": {
  "kernelspec": {
   "display_name": "Python 3",
   "language": "python",
   "name": "python3"
  },
  "language_info": {
   "codemirror_mode": {
    "name": "ipython",
    "version": 3
   },
   "file_extension": ".py",
   "mimetype": "text/x-python",
   "name": "python",
   "nbconvert_exporter": "python",
   "pygments_lexer": "ipython3",
   "version": "3.11.9"
  }
 },
 "nbformat": 4,
 "nbformat_minor": 2
}
